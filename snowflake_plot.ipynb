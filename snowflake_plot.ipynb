
{
 "cells": [
  {
   "cell_type": "markdown",
   "id": "57393988",
   "metadata": {},
   "source": [
    "# Building a Panel Dashboard with Snowpark for Python\n",
    "\n",
    "# Import needed modules"
   ]
  },
  {
   "cell_type": "code",
   "execution_count": null,
   "id": "e23e378c",
   "metadata": {},
   "outputs": [],
   "source": [
    "# import snowpark for Python\n",
    "from snowflake.snowpark import Session\n",
    "from snowflake.snowpark.functions import col\n",
    "# I saved all my credentials in a separete file and import them here,\n",
    "# please use your own credentials\n",
    "from snowflake_credentials import account, user, password, role, warehouse, database, schema\n",
    "\n",
    "connection_parameters = {\n",
    "    \"account\": account,\n",
    "    \"user\": user,\n",
    "    \"password\": password,\n",
    "    \"role\": role,\n",
    "    \"warehouse\": warehouse,\n",
    "    \"database\": database,\n",
    "    \"schema\": schema\n",
    "}"
   ]
  },
  {
   "cell_type": "markdown",
   "id": "83fbf436",
   "metadata": {},
   "source": [
    "# Get data"
   ]
  },
  {
   "cell_type": "code",
   "execution_count": null,
   "id": "6e7b5425",
   "metadata": {},
   "outputs": [],
   "source": [
    "session = Session.builder.configs(connection_parameters).create()\n",
    "df_data = session.table('openstreetmap.pointsofinterest_nodes_usa_latlon_v1_quarterly_v1')\n",
    "df_geo = session.sql('SELECT *, st_x(GEOM) as longitude, st_y(GEOM) as latitude FROM openstreetmap.geography_usa_latlon_v1')\n"
   ]
  },
  {
   "cell_type": "code",
   "execution_count": null,
   "id": "01fb2161",
   "metadata": {},
   "outputs": [],
   "source": [
    "df_data.count(), df_geo.count()"
   ]
  },
  {
   "cell_type": "code",
   "execution_count": null,
   "id": "2ff76311",
   "metadata": {},
   "outputs": [],
   "source": [
    "df = df_data.join(df_geo, df_data.col(\"geoid\") == df_geo.col(\"geoid\"))"
   ]
  },
  {
   "cell_type": "code",
   "execution_count": null,
   "id": "f8d5aa24",
   "metadata": {
    "scrolled": true
   },
   "outputs": [],
   "source": [
    "df.show(1)"
   ]
  },
  {
   "cell_type": "code",
   "execution_count": null,
   "id": "e793db2e",
   "metadata": {},
   "outputs": [],
   "source": [
    "df.explain()"
   ]
  },
  {
   "cell_type": "code",
   "execution_count": null,
   "id": "66662022",
   "metadata": {
    "scrolled": true
   },
   "outputs": [],
   "source": [
    "str(df._plan.queries[0].sql)"
   ]
  },
  {
   "cell_type": "code",
   "execution_count": null,
   "id": "83157f80",
   "metadata": {},
   "outputs": [],
   "source": [
    "df.count()"
   ]
  },
  {
   "cell_type": "code",
   "execution_count": null,
   "id": "c38c2c22",
   "metadata": {},
   "outputs": [],
   "source": [
    "df = df.to_pandas()"
   ]
  },
  {
   "cell_type": "code",
   "execution_count": null,
   "id": "10b5b3c8",
   "metadata": {},
   "outputs": [],
   "source": [
    "df.head(1)"
   ]
  },
  {
   "cell_type": "markdown",
   "id": "69b8bc97",
   "metadata": {},
   "source": [
    "# Plot 5 million data points with Datashader (hvplot rasterize=True)"
   ]
  },
  {
   "cell_type": "code",
   "execution_count": null,
   "id": "b69e71b8",
   "metadata": {},
   "outputs": [],
   "source": [
    "import holoviews as hv, pandas as pd, colorcet as cc\n",
    "from holoviews.element.tiles import EsriImagery\n",
    "import hvplot.pandas\n",
    "from datashader.utils import lnglat_to_meters\n",
    "import panel as pn\n",
    "hv.extension('bokeh')"
   ]
  },
  {
   "cell_type": "code",
   "execution_count": null,
   "id": "1fc31201",
   "metadata": {},
   "outputs": [],
   "source": [
    "# convert longitude and latitude\n",
    "df.loc[:, 'x'], df.loc[:, 'y'] = lnglat_to_meters(df.LONGITUDE, df.LATITUDE)"
   ]
  },
  {
   "cell_type": "code",
   "execution_count": null,
   "id": "b60b7e03",
   "metadata": {},
   "outputs": [],
   "source": [
    "# plot 5 million rows and overlay with a map\n",
    "map_tiles = EsriImagery().opts(alpha=0.5, width=700, height=480, bgcolor='black')\n",
    "plot = df.hvplot(\n",
    "    'x', \n",
    "    'y', \n",
    "    kind='scatter', \n",
    "    rasterize=True, \n",
    "    cmap=cc.fire, \n",
    "    cnorm='eq_hist',  \n",
    "    colorbar=True).opts(colorbar_position='bottom')\n",
    "map_tiles * plot"
   ]
  },
  {
   "cell_type": "markdown",
   "id": "700dd8b7",
   "metadata": {},
   "source": [
    "# Create an interactive dashboard"
   ]
  },
  {
   "cell_type": "code",
   "execution_count": null,
   "id": "283e28a5",
   "metadata": {},
   "outputs": [],
   "source": [
    "# create a Panel widget to select top 10 amenities\n",
    "select_amenity = pn.widgets.Select(\n",
    "    options=df.AMENITY.value_counts().head(10).index.tolist(),\n",
    "    name='Amenity'\n",
    ")"
   ]
  },
  {
   "cell_type": "code",
   "execution_count": null,
   "id": "db967e69",
   "metadata": {},
   "outputs": [],
   "source": [
    "select_amenity"
   ]
  },
  {
   "cell_type": "code",
   "execution_count": null,
   "id": "37c75f09",
   "metadata": {},
   "outputs": [],
   "source": [
    "# create a Panel dashboard\n",
    "dfi = df.interactive\n",
    "iplot = dfi[dfi.AMENITY==select_amenity].hvplot(\n",
    "    'x',\n",
    "    'y', \n",
    "    kind='scatter', \n",
    "    height=400,\n",
    "    rasterize=True, \n",
    "    cmap=cc.fire, \n",
    "    cnorm='eq_hist', \n",
    "    colorbar=True).opts(colorbar_position='bottom')\n",
    "map_tiles.opts(level='underlay') * iplot "
   ]
  },
  {
   "cell_type": "code",
   "execution_count": null,
   "id": "50108dbb",
   "metadata": {},
   "outputs": [],
   "source": [
    "# use a template for the Panel dashboard\n",
    "template = pn.template.FastListTemplate(\n",
    "    title='Interactive Panel Dashboard with Snowflake', \n",
    "    sidebar=[select_amenity],\n",
    "    main=[(map_tiles.opts(level='underlay') * iplot).panel()],\n",
    "    accent_base_color=\"#ff6f69\",\n",
    "    header_background=\"#ff6f69\",\n",
    "    theme=\"dark\"\n",
    ")\n",
    "template.show()\n",
    "# template.servable();"
   ]
  },
  {
   "cell_type": "code",
   "execution_count": null,
   "id": "0a5f0187",
   "metadata": {},
   "outputs": [],
   "source": []
  }
 ],
 "metadata": {
  "kernelspec": {
   "display_name": "Python 3 (ipykernel)",
   "language": "python",
   "name": "python3"
  },
  "language_info": {
   "codemirror_mode": {
    "name": "ipython",
    "version": 3
   },
   "file_extension": ".py",
   "mimetype": "text/x-python",
   "name": "python",
   "nbconvert_exporter": "python",
   "pygments_lexer": "ipython3",
   "version": "3.8.12"
  }
 },
 "nbformat": 4,
 "nbformat_minor": 5
}
